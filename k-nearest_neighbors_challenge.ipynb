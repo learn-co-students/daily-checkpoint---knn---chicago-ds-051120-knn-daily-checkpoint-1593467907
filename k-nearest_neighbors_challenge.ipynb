{
 "cells": [
  {
   "cell_type": "code",
   "execution_count": 1,
   "metadata": {},
   "outputs": [],
   "source": [
    "from sklearn.neighbors import KNeighborsClassifier\n",
    "from sklearn.datasets import load_wine\n",
    "from sklearn.model_selection import train_test_split\n",
    "from sklearn.metrics import confusion_matrix\n",
    "import pandas as pd"
   ]
  },
  {
   "cell_type": "markdown",
   "metadata": {},
   "source": [
    "### 1. What does the '$k$' represent in \"$k$-Nearest Neighbors\"?"
   ]
  },
  {
   "cell_type": "code",
   "execution_count": 1,
   "metadata": {},
   "outputs": [],
   "source": [
    "# Your answer here\n",
    "\n"
   ]
  },
  {
   "cell_type": "code",
   "execution_count": null,
   "metadata": {},
   "outputs": [],
   "source": [
    "# __SOLUTION__\n",
    "\n",
    "# k is the number of neighbors to consider."
   ]
  },
  {
   "cell_type": "markdown",
   "metadata": {},
   "source": [
    "### 2. How do the variance and bias of my model change as I adjust $k$? What would happen if I set $k$ to $n$, the size of my dataset?"
   ]
  },
  {
   "cell_type": "code",
   "execution_count": null,
   "metadata": {},
   "outputs": [],
   "source": [
    "# Your answer here\n",
    "\n"
   ]
  },
  {
   "cell_type": "code",
   "execution_count": 2,
   "metadata": {},
   "outputs": [],
   "source": [
    "# __SOLUTION__\n",
    "\n",
    "# In general, as k increases, model bias increases and model variance decreases.\n",
    "# As k decreases, model bias decreases and model variance increases.\n",
    "# If I were to set k to n, then the model would be totally biased in favor of\n",
    "# the most populous class and this would become the prediction for every data\n",
    "# point."
   ]
  },
  {
   "cell_type": "markdown",
   "metadata": {},
   "source": [
    "### $k$-Nearest Neighbors in Scikit-Learn"
   ]
  },
  {
   "cell_type": "code",
   "execution_count": 3,
   "metadata": {},
   "outputs": [],
   "source": [
    "wine = load_wine()"
   ]
  },
  {
   "cell_type": "code",
   "execution_count": 70,
   "metadata": {},
   "outputs": [],
   "source": [
    "print(wine.DESCR)"
   ]
  },
  {
   "cell_type": "code",
   "execution_count": 49,
   "metadata": {},
   "outputs": [],
   "source": [
    "wine.feature_names"
   ]
  },
  {
   "cell_type": "code",
   "execution_count": 50,
   "metadata": {
    "scrolled": true
   },
   "outputs": [],
   "source": [
    "wine_df = pd.DataFrame(wine.data, columns=wine.feature_names)\n",
    "wine_df.head()"
   ]
  },
  {
   "cell_type": "code",
   "execution_count": 51,
   "metadata": {},
   "outputs": [],
   "source": [
    "wine.target[:5]"
   ]
  },
  {
   "cell_type": "markdown",
   "metadata": {},
   "source": [
    "### 3. Perform a train-test split on the data (including the target), and\n",
    "### fit the $k$-Nearest Neighbors Classifier to the training data with $k$ = 7."
   ]
  },
  {
   "cell_type": "code",
   "execution_count": 65,
   "metadata": {},
   "outputs": [],
   "source": [
    "# Your code here\n",
    "\n"
   ]
  },
  {
   "cell_type": "code",
   "execution_count": 6,
   "metadata": {},
   "outputs": [],
   "source": [
    "# __SOLUTION__\n",
    "\n",
    "X_train, X_test, y_train, y_test = train_test_split(wine.data, wine.target)\n",
    "\n",
    "knn = KNeighborsClassifier(n_neighbors=7)\n",
    "\n",
    "knn.fit(X_train, y_train)"
   ]
  },
  {
   "cell_type": "markdown",
   "metadata": {},
   "source": [
    "### Confusion Matrix"
   ]
  },
  {
   "cell_type": "code",
   "execution_count": 13,
   "metadata": {},
   "outputs": [
    {
     "data": {
      "text/plain": [
       "array([[12,  1,  1],\n",
       "       [ 0, 14,  4],\n",
       "       [ 0,  8,  5]])"
      ]
     },
     "execution_count": 13,
     "metadata": {},
     "output_type": "execute_result"
    }
   ],
   "source": [
    "confusion_matrix(y_test, knn.predict(X_test))"
   ]
  },
  {
   "cell_type": "markdown",
   "metadata": {},
   "source": [
    "### 4. How accurate is the model?  What is the precision of the model in classifying wines from *Class 1*?"
   ]
  },
  {
   "cell_type": "code",
   "execution_count": 11,
   "metadata": {},
   "outputs": [],
   "source": [
    "# Your answer here\n",
    "\n"
   ]
  },
  {
   "cell_type": "code",
   "execution_count": 17,
   "metadata": {},
   "outputs": [],
   "source": [
    "# __SOLUTION__\n",
    "\n",
    "# To calculate accuracy, we can\n",
    "# use knn.score(); or\n",
    "# import accuracy_score() from sklearn.metrics; or\n",
    "# add the entries on the main diagonal and divide by number of test wines:\n",
    "\n",
    "print(knn.score(X_test, y_test))\n",
    "from sklearn.metrics import accuracy_score\n",
    "print(accuracy_score(y_test, knn.predict(X_test)))\n",
    "print(31 / len(y_test))\n",
    "\n",
    "# To calculate precision, we can\n",
    "# import precision_score() from sklearn.metrics; or\n",
    "# divide the number of true positives by the sum of true and false positives:\n",
    "\n",
    "from sklearn.metrics import precision_score\n",
    "print(precision_score(y_test, knn.predict(X_test), average=None)[1])\n",
    "print(14 / (14 + 8 + 1))"
   ]
  },
  {
   "cell_type": "markdown",
   "metadata": {},
   "source": [
    "### Now try a model with $k$ = 5 and a Manhattan distance metric. (You can use the same train-test split.)\n",
    "\n",
    "### 5. How accurate is the new model? What is the recall of the model in classifying wines from *Class 0*?"
   ]
  },
  {
   "cell_type": "code",
   "execution_count": 86,
   "metadata": {},
   "outputs": [],
   "source": [
    "# Your answer here\n",
    "\n"
   ]
  },
  {
   "cell_type": "code",
   "execution_count": 27,
   "metadata": {},
   "outputs": [],
   "source": [
    "# __SOLUTION__\n",
    "\n",
    "knn2 = KNeighborsClassifier(n_neighbors=5, metric='manhattan')\n",
    "\n",
    "knn2.fit(X_train, y_train)\n",
    "\n",
    "confusion_matrix(y_test, knn2.predict(X_test))"
   ]
  },
  {
   "cell_type": "code",
   "execution_count": 26,
   "metadata": {},
   "outputs": [],
   "source": [
    "# __SOLUTION__\n",
    "\n",
    "print(knn2.score(X_test, y_test))\n",
    "print(accuracy_score(y_test, knn2.predict(X_test)))\n",
    "print(35 / len(y_test))\n",
    "\n",
    "# To calculate recall, we can\n",
    "# import recall_score() from sklearn.metrics; or\n",
    "# divide the number of true positives by the sum of true positives and false negatives:\n",
    "\n",
    "from sklearn.metrics import recall_score\n",
    "print(recall_score(y_test, knn2.predict(X_test), average=None)[0])\n",
    "print(10 / (10 + 3 + 1))"
   ]
  },
  {
   "cell_type": "code",
   "execution_count": null,
   "metadata": {},
   "outputs": [],
   "source": []
  }
 ],
 "metadata": {
  "kernelspec": {
   "display_name": "Python 3",
   "language": "python",
   "name": "python3"
  },
  "language_info": {
   "codemirror_mode": {
    "name": "ipython",
    "version": 3
   },
   "file_extension": ".py",
   "mimetype": "text/x-python",
   "name": "python",
   "nbconvert_exporter": "python",
   "pygments_lexer": "ipython3",
   "version": "3.7.2"
  }
 },
 "nbformat": 4,
 "nbformat_minor": 2
}
